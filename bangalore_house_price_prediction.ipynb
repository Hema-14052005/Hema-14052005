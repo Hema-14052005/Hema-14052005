{
  "cells": [
    {
      "cell_type": "markdown",
      "metadata": {
        "id": "view-in-github",
        "colab_type": "text"
      },
      "source": [
        "<a href=\"https://colab.research.google.com/github/Hema-14052005/Hema-14052005/blob/main/bangalore_house_price_prediction.ipynb\" target=\"_parent\"><img src=\"https://colab.research.google.com/assets/colab-badge.svg\" alt=\"Open In Colab\"/></a>"
      ]
    },
    {
      "cell_type": "code",
      "execution_count": null,
      "metadata": {
        "colab": {
          "background_save": true,
          "base_uri": "https://localhost:8080/"
        },
        "id": "R-dGCaekJ0Lh",
        "outputId": "8f08a4da-c1bb-4590-b67c-4c85e75bfb38"
      },
      "outputs": [
        {
          "name": "stdout",
          "output_type": "stream",
          "text": [
            "<bound method NDFrame.tail of          Price  Area                         Location  No. of Bedrooms  \\\n",
            "0     30000000  3340                 JP Nagar Phase 1                4   \n",
            "1      7888000  1045       Dasarahalli on Tumkur Road                2   \n",
            "2      4866000  1179  Kannur on Thanisandra Main Road                2   \n",
            "3      8358000  1675                     Doddanekundi                3   \n",
            "4      6845000  1670                          Kengeri                3   \n",
            "...        ...   ...                              ...              ...   \n",
            "6202   5364000   590                       Chandapura                1   \n",
            "6203   8716000  1179                    Kasavanahalli                2   \n",
            "6204   7373000  1143                    Kasavanahalli                2   \n",
            "6205   4985000  1680                    Kasavanahalli                3   \n",
            "6206  10900000  1162                    Kasavanahalli                2   \n",
            "\n",
            "      Resale  MaintenanceStaff  Gymnasium  SwimmingPool  LandscapedGardens  \\\n",
            "0          0                 1          1             1                  1   \n",
            "1          0                 0          1             1                  1   \n",
            "2          0                 0          1             1                  1   \n",
            "3          0                 0          0             0                  0   \n",
            "4          0                 1          1             1                  1   \n",
            "...      ...               ...        ...           ...                ...   \n",
            "6202       0                 9          9             9                  9   \n",
            "6203       0                 9          9             9                  9   \n",
            "6204       0                 9          9             9                  9   \n",
            "6205       0                 9          9             9                  9   \n",
            "6206       0                 9          9             9                  9   \n",
            "\n",
            "      JoggingTrack  ...  LiftAvailable  BED  VaastuCompliant  Microwave  \\\n",
            "0                1  ...              1    0                0          0   \n",
            "1                1  ...              1    0                1          0   \n",
            "2                1  ...              1    0                0          0   \n",
            "3                0  ...              1    0                0          0   \n",
            "4                1  ...              1    0                0          0   \n",
            "...            ...  ...            ...  ...              ...        ...   \n",
            "6202             9  ...              9    9                9          9   \n",
            "6203             9  ...              9    9                9          9   \n",
            "6204             9  ...              9    9                9          9   \n",
            "6205             9  ...              9    9                9          9   \n",
            "6206             9  ...              9    9                9          9   \n",
            "\n",
            "      GolfCourse  TV  DiningTable  Sofa  Wardrobe  Stadium  \n",
            "0              0   0            0     0         0        0  \n",
            "1              0   0            0     0         0        0  \n",
            "2              0   0            0     0         0        0  \n",
            "3              0   0            0     0         0        0  \n",
            "4              0   0            0     0         0        0  \n",
            "...          ...  ..          ...   ...       ...      ...  \n",
            "6202           9   9            9     9         9        9  \n",
            "6203           9   9            9     9         9        9  \n",
            "6204           9   9            9     9         9        9  \n",
            "6205           9   9            9     9         9        9  \n",
            "6206           9   9            9     9         9        9  \n",
            "\n",
            "[6207 rows x 40 columns]>\n",
            "(6207, 40)\n",
            "Root Mean Squared Error: 9382690.272183904\n"
          ]
        }
      ],
      "source": [
        "import pandas as pd\n",
        "import numpy as np\n",
        "import matplotlib.pyplot as plt\n",
        "import seaborn as sns\n",
        "from sklearn.preprocessing import StandardScaler,OneHotEncoder\n",
        "from sklearn.compose import ColumnTransformer\n",
        "from sklearn.model_selection import train_test_split\n",
        "from sklearn.metrics import mean_squared_error\n",
        "from sklearn.ensemble import RandomForestRegressor\n",
        "d=pd.read_csv('/content/Bangalore.csv')\n",
        "print(d.tail)\n",
        "'''print(d.info())\n",
        "print(d.isnull().sum())\n",
        "print(d.describe())'''\n",
        "print(d.shape)\n",
        "x=d.drop(columns=\"Price\",axis=1)\n",
        "y=d['Price']\n",
        "categorical_cols=[\"Area\",\"Location\"]\n",
        "numerical_cols=x.select_dtypes(include=['int64','float64']).columns\n",
        "numerical_transformer=StandardScaler()\n",
        "categorical_transformer=OneHotEncoder(handle_unknown='ignore')\n",
        "sc=ColumnTransformer(transformers=[('num',numerical_transformer,numerical_cols),('cat',categorical_transformer,categorical_cols)])\n",
        "x=sc.fit_transform(x)\n",
        "# Check for classes with only one sample\n",
        "value_counts = y.value_counts()\n",
        "rare_classes = value_counts[value_counts == 1].index.tolist()\n",
        "# Remove rows with rare classes from both x and y\n",
        "x_filtered = x[~y.isin(rare_classes)]\n",
        "y_filtered = y[~y.isin(rare_classes)]\n",
        "x_train,x_test,y_train,y_test=train_test_split(x_filtered,y_filtered,test_size=0.2,stratify=y_filtered,random_state=2)\n",
        "model = RandomForestRegressor(random_state=2) # Initialize the model\n",
        "model.fit(x_train, y_train)\n",
        "# Make predictions\n",
        "y_pred = model.predict(x_test)\n",
        "\n",
        "# Evaluate the model\n",
        "rmse = np.sqrt(mean_squared_error(y_test, y_pred))\n",
        "print(\"Root Mean Squared Error:\", rmse)\n",
        "n=input()\n",
        "n=np.array(n).reshape(1,-1)\n",
        "n=sc.transform(n)\n",
        "print(model.predict(n))\n"
      ]
    }
  ],
  "metadata": {
    "colab": {
      "provenance": [],
      "authorship_tag": "ABX9TyOoWqVEXvcUNKj5q5tAMRQK",
      "include_colab_link": true
    },
    "kernelspec": {
      "display_name": "Python 3",
      "name": "python3"
    },
    "language_info": {
      "name": "python"
    }
  },
  "nbformat": 4,
  "nbformat_minor": 0
}