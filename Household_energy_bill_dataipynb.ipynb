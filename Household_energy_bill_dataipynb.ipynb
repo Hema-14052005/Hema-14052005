{
  "nbformat": 4,
  "nbformat_minor": 0,
  "metadata": {
    "colab": {
      "provenance": [],
      "authorship_tag": "ABX9TyMhLIfmzx8xNy54Wi/Kns0H",
      "include_colab_link": true
    },
    "kernelspec": {
      "name": "python3",
      "display_name": "Python 3"
    },
    "language_info": {
      "name": "python"
    }
  },
  "cells": [
    {
      "cell_type": "markdown",
      "metadata": {
        "id": "view-in-github",
        "colab_type": "text"
      },
      "source": [
        "<a href=\"https://colab.research.google.com/github/Hema-14052005/Hema-14052005/blob/main/Household_energy_bill_dataipynb.ipynb\" target=\"_parent\"><img src=\"https://colab.research.google.com/assets/colab-badge.svg\" alt=\"Open In Colab\"/></a>"
      ]
    },
    {
      "cell_type": "code",
      "execution_count": 12,
      "metadata": {
        "colab": {
          "base_uri": "https://localhost:8080/"
        },
        "id": "xPDHXON4tYGt",
        "outputId": "ce6ee6fd-25fa-402c-ad95-a9dce619705f"
      },
      "outputs": [
        {
          "output_type": "stream",
          "name": "stdout",
          "text": [
            "   num_rooms  num_people  housearea  is_ac  is_tv  is_flat  \\\n",
            "0          3           3     742.57      1      1        1   \n",
            "1          1           5     952.99      0      1        0   \n",
            "2          3           1     761.44      1      1        1   \n",
            "3          0           5     861.32      1      1        0   \n",
            "4          1           8     731.61      0      1        0   \n",
            "\n",
            "   ave_monthly_income  num_children  is_urban  amount_paid  \n",
            "0             9675.93             2         0   560.481447  \n",
            "1            35064.79             1         1   633.283679  \n",
            "2            22292.44             0         0   511.879157  \n",
            "3            12139.08             0         0   332.992035  \n",
            "4            17230.10             2         1   658.285625  \n",
            "<class 'pandas.core.frame.DataFrame'>\n",
            "RangeIndex: 1000 entries, 0 to 999\n",
            "Data columns (total 10 columns):\n",
            " #   Column              Non-Null Count  Dtype  \n",
            "---  ------              --------------  -----  \n",
            " 0   num_rooms           1000 non-null   int64  \n",
            " 1   num_people          1000 non-null   int64  \n",
            " 2   housearea           1000 non-null   float64\n",
            " 3   is_ac               1000 non-null   int64  \n",
            " 4   is_tv               1000 non-null   int64  \n",
            " 5   is_flat             1000 non-null   int64  \n",
            " 6   ave_monthly_income  1000 non-null   float64\n",
            " 7   num_children        1000 non-null   int64  \n",
            " 8   is_urban            1000 non-null   int64  \n",
            " 9   amount_paid         1000 non-null   float64\n",
            "dtypes: float64(3), int64(7)\n",
            "memory usage: 78.2 KB\n",
            "None\n",
            "num_rooms             0\n",
            "num_people            0\n",
            "housearea             0\n",
            "is_ac                 0\n",
            "is_tv                 0\n",
            "is_flat               0\n",
            "ave_monthly_income    0\n",
            "num_children          0\n",
            "is_urban              0\n",
            "amount_paid           0\n",
            "dtype: int64\n",
            "         num_rooms   num_people    housearea        is_ac        is_tv  \\\n",
            "count  1000.000000  1000.000000  1000.000000  1000.000000  1000.000000   \n",
            "mean      1.962000     4.897000   794.703420     0.376000     0.798000   \n",
            "std       1.030348     2.007591   147.771736     0.484622     0.401693   \n",
            "min      -1.000000    -1.000000   244.400000     0.000000     0.000000   \n",
            "25%       1.000000     4.000000   691.037500     0.000000     1.000000   \n",
            "50%       2.000000     5.000000   789.970000     0.000000     1.000000   \n",
            "75%       3.000000     6.000000   892.955000     1.000000     1.000000   \n",
            "max       5.000000    11.000000  1189.120000     1.000000     1.000000   \n",
            "\n",
            "           is_flat  ave_monthly_income  num_children     is_urban  amount_paid  \n",
            "count  1000.000000         1000.000000   1000.000000  1000.000000  1000.000000  \n",
            "mean      0.477000        24684.986550      1.078000     0.608000   600.396359  \n",
            "std       0.499721         9678.228224      0.934232     0.488441   181.406210  \n",
            "min       0.000000        -1576.440000      0.000000     0.000000    87.851850  \n",
            "25%       0.000000        18036.762500      0.000000     0.000000   475.065141  \n",
            "50%       0.000000        24742.575000      1.000000     1.000000   598.331726  \n",
            "75%       1.000000        31402.357500      2.000000     1.000000   729.930489  \n",
            "max       1.000000        56531.080000      4.000000     1.000000  1102.994109  \n",
            "709.691825886892\n"
          ]
        }
      ],
      "source": [
        "#electricity prediction\n",
        "import pandas as pd\n",
        "import numpy as np\n",
        "import matplotlib.pyplot as plt\n",
        "import seaborn as sns\n",
        "from sklearn.preprocessing import StandardScaler\n",
        "from sklearn.compose import ColumnTransformer\n",
        "from sklearn.model_selection import train_test_split\n",
        "from sklearn.metrics import mean_squared_error\n",
        "from sklearn.ensemble import RandomForestRegressor\n",
        "d=pd.read_csv('/content/Household energy bill data.csv')\n",
        "print(d.head())\n",
        "print(d.info())\n",
        "print(d.isnull().sum())\n",
        "print(d.describe())\n",
        "x=d.drop(columns=\"amount_paid\",axis=1)\n",
        "y=d['amount_paid']\n",
        "sc=StandardScaler()\n",
        "sc.fit(x)\n",
        "sc.transform(x)\n",
        "x_train,x_test,y_train,y_test=train_test_split(x,y,test_size=0.2,random_state=2)\n",
        "model=RandomForestRegressor(n_estimators=100,random_state=2)\n",
        "'''The n_estimators parameter in the Random Forest model represents the\n",
        "number of decision trees that are built in the forest.\n",
        "Each tree is trained on a random subset of the data and features,\n",
        "and the final prediction\n",
        "is made by averaging the predictions of all the individual trees'''\n",
        "model.fit(x_train,y_train)\n",
        "y_pred=model.predict(x_test)\n",
        "mse=mean_squared_error(y_test,y_pred)\n",
        "print(mse)"
      ]
    },
    {
      "cell_type": "code",
      "source": [],
      "metadata": {
        "id": "b6si8qzOybAL"
      },
      "execution_count": null,
      "outputs": []
    }
  ]
}