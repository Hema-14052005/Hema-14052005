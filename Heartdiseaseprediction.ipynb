{
  "nbformat": 4,
  "nbformat_minor": 0,
  "metadata": {
    "colab": {
      "provenance": [],
      "authorship_tag": "ABX9TyNfZDugWQyrHn4YQErZHyFw",
      "include_colab_link": true
    },
    "kernelspec": {
      "name": "python3",
      "display_name": "Python 3"
    },
    "language_info": {
      "name": "python"
    }
  },
  "cells": [
    {
      "cell_type": "markdown",
      "metadata": {
        "id": "view-in-github",
        "colab_type": "text"
      },
      "source": [
        "<a href=\"https://colab.research.google.com/github/Hema-14052005/Hema-14052005/blob/main/Heartdiseaseprediction.ipynb\" target=\"_parent\"><img src=\"https://colab.research.google.com/assets/colab-badge.svg\" alt=\"Open In Colab\"/></a>"
      ]
    },
    {
      "cell_type": "code",
      "execution_count": null,
      "metadata": {
        "colab": {
          "base_uri": "https://localhost:8080/"
        },
        "id": "9wLxNflYGJj6",
        "outputId": "e627e8c0-1f40-4540-d85d-022f35d9fc85"
      },
      "outputs": [
        {
          "output_type": "stream",
          "name": "stderr",
          "text": [
            "/usr/local/lib/python3.10/dist-packages/sklearn/linear_model/_logistic.py:460: ConvergenceWarning: lbfgs failed to converge (status=1):\n",
            "STOP: TOTAL NO. of ITERATIONS REACHED LIMIT.\n",
            "\n",
            "Increase the number of iterations (max_iter) or scale the data as shown in:\n",
            "    https://scikit-learn.org/stable/modules/preprocessing.html\n",
            "Please also refer to the documentation for alternative solver options:\n",
            "    https://scikit-learn.org/stable/modules/linear_model.html#logistic-regression\n",
            "  n_iter_i = _check_optimize_result(\n"
          ]
        },
        {
          "output_type": "stream",
          "name": "stdout",
          "text": [
            "   age  sex   chest pain type  resting blood pressure  serum cholestoral  \\\n",
            "0   70     1                4                     130                322   \n",
            "1   67     0                3                     115                564   \n",
            "2   57     1                2                     124                261   \n",
            "3   64     1                4                     128                263   \n",
            "4   74     0                2                     120                269   \n",
            "\n",
            "   fasting blood sugar  resting electrocardiographic results  max heart rate  \\\n",
            "0                    0                                     2             109   \n",
            "1                    0                                     2             160   \n",
            "2                    0                                     0             141   \n",
            "3                    0                                     0             105   \n",
            "4                    0                                     2             121   \n",
            "\n",
            "   exercise induced angina  oldpeak  ST segment  major vessels  thal  \\\n",
            "0                        0      2.4           2              3     3   \n",
            "1                        0      1.6           2              0     7   \n",
            "2                        0      0.3           1              0     7   \n",
            "3                        1      0.2           2              1     7   \n",
            "4                        1      0.2           1              1     3   \n",
            "\n",
            "   heart disease  \n",
            "0              2  \n",
            "1              1  \n",
            "2              2  \n",
            "3              1  \n",
            "4              1  \n",
            "0.875\n",
            "0.8333333333333334\n",
            "overfitting\n",
            "1.age\n",
            "70\n",
            "2.sex\n",
            "1\n",
            "3.chest pain\n",
            "4\n",
            "4.bp\n",
            "163\n",
            "5.chloeatal\n",
            "322\n",
            "6.sugar\n",
            "0\n",
            "7.ecg\n",
            "0\n",
            "8.indeced anjana\n",
            "109\n",
            "heart rate\n",
            "0\n",
            "9.oldpeak\n",
            "2.4\n",
            "10STsegment\n",
            "2\n",
            "11vessel\n",
            "3\n",
            "12thal\n",
            "3\n",
            "[2]\n"
          ]
        }
      ],
      "source": [
        "#heart disease prediction\n",
        "import pandas as pd\n",
        "import numpy as np\n",
        "import matplotlib.pyplot as plt\n",
        "import seaborn as sns\n",
        "from sklearn.preprocessing import StandardScaler\n",
        "from sklearn.model_selection import train_test_split\n",
        "from sklearn.metrics import accuracy_score\n",
        "from sklearn.linear_model import LogisticRegression\n",
        "d=pd.read_csv('/content/dataset_heart.csv')\n",
        "print(d.head())\n",
        "'''795print(d.info())\n",
        "print(d.isnull().sum())\n",
        "print(d.describe())\n",
        "print(d.value_counts('heart disease'))'''\n",
        "x=d.drop(columns=\"heart disease\",axis=1)\n",
        "y=d['heart disease']\n",
        "sc=StandardScaler()\n",
        "sc.fit(x)\n",
        "sc.transform(x)\n",
        "x_train,x_test,y_train,y_test=train_test_split(x,y,test_size=0.2,stratify=y,random_state=2)\n",
        "cl=LogisticRegression()\n",
        "cl.fit(x_train,y_train)\n",
        "x_train_pre=cl.predict(x_train)\n",
        "train_acc=accuracy_score(x_train_pre,y_train)\n",
        "print(train_acc)\n",
        "x_test_pre=cl.predict(x_test)\n",
        "test_acc=accuracy_score(x_test_pre,y_test)\n",
        "print(test_acc)\n",
        "print('overfitting')\n",
        "n=['1.age','2.sex','3.chest pain','4.bp','5.chloeatal','6.sugar','7.ecg','8.indeced anjana','heart rate','9.oldpeak','10STsegment','11vessel','12thal']\n",
        "l=[]\n",
        "for i in n:\n",
        "  print(i)\n",
        "  if i=='9.oldpeak':\n",
        "    a=float(input())\n",
        "  else:\n",
        "    a=int(input())\n",
        "  l.append(a)\n",
        "a=np.array(l)\n",
        "a=a.reshape(1,-1)\n",
        "a = pd.DataFrame([l], columns=x.columns)\n",
        "pr=cl.predict(a)\n",
        "print(pr)"
      ]
    },
    {
      "cell_type": "code",
      "source": [],
      "metadata": {
        "id": "5qweG43KPvoR"
      },
      "execution_count": null,
      "outputs": []
    },
    {
      "cell_type": "code",
      "source": [],
      "metadata": {
        "id": "EIsw4z5XK820"
      },
      "execution_count": null,
      "outputs": []
    },
    {
      "cell_type": "code",
      "source": [],
      "metadata": {
        "id": "3NL0GloBIqJt"
      },
      "execution_count": null,
      "outputs": []
    }
  ]
}